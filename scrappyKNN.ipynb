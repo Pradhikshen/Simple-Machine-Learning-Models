{
  "nbformat": 4,
  "nbformat_minor": 0,
  "metadata": {
    "colab": {
      "name": "scrappyKNN.ipynb",
      "provenance": []
    },
    "kernelspec": {
      "name": "python3",
      "display_name": "Python 3"
    }
  },
  "cells": [
    {
      "cell_type": "code",
      "metadata": {
        "id": "L_4axIVk6yW_"
      },
      "source": [
        "from scipy.spatial import distance\n",
        "\n",
        "def euc(a,b):\n",
        "  return distance.euclidean(a,b)"
      ],
      "execution_count": null,
      "outputs": []
    },
    {
      "cell_type": "code",
      "metadata": {
        "id": "O_jUuyApn8J_"
      },
      "source": [
        "import random"
      ],
      "execution_count": null,
      "outputs": []
    },
    {
      "cell_type": "code",
      "metadata": {
        "id": "6NZzrpV8Ahsd"
      },
      "source": [
        ""
      ],
      "execution_count": null,
      "outputs": []
    },
    {
      "cell_type": "code",
      "metadata": {
        "id": "M6PBTzhdoAQW"
      },
      "source": [
        "class ScrappyKNN() :\n",
        "  def fit(self, x_train, y_train) :\n",
        "    self.x_train = x_train\n",
        "    self.y_train = y_train\n",
        "  \n",
        "  def predict(self, x_test) :\n",
        "    predictions = []\n",
        "    for row in x_test:\n",
        "      label = self.closest(row)\n",
        "      predictions.append(label)\n",
        "    return predictions\n",
        "\n",
        "  def closest(self, row):\n",
        "    best_dist=euc(row, self.x_train[0])\n",
        "    best_index=0\n",
        "    for i in range(1,len(self.x_train)):\n",
        "        dist=euc(row, self.x_train[i])\n",
        "        if(best_dist>dist) :\n",
        "          best_dist = dist\n",
        "          best_index = i\n",
        "\n",
        "    return self.y_train[best_index]\n",
        "\n"
      ],
      "execution_count": null,
      "outputs": []
    },
    {
      "cell_type": "code",
      "metadata": {
        "id": "EF7AP7D-o7rb"
      },
      "source": [
        "from sklearn import datasets"
      ],
      "execution_count": null,
      "outputs": []
    },
    {
      "cell_type": "code",
      "metadata": {
        "id": "reI40UhUpDSi"
      },
      "source": [
        "iris = datasets.load_iris()\n",
        "\n",
        "\n"
      ],
      "execution_count": null,
      "outputs": []
    },
    {
      "cell_type": "code",
      "metadata": {
        "id": "fT79IWSapUza"
      },
      "source": [
        "x = iris.data\n",
        "y = iris.target"
      ],
      "execution_count": null,
      "outputs": []
    },
    {
      "cell_type": "code",
      "metadata": {
        "id": "nRqthewaqaT3"
      },
      "source": [
        "from sklearn.model_selection import train_test_split\n",
        "x_train, x_test, y_train, y_test = train_test_split(x, y, test_size = .5)\n",
        "\n",
        "my_classifier = ScrappyKNN()"
      ],
      "execution_count": null,
      "outputs": []
    },
    {
      "cell_type": "code",
      "metadata": {
        "id": "suhvprMtpy84"
      },
      "source": [
        "my_classifier.fit(x_train, y_train)"
      ],
      "execution_count": null,
      "outputs": []
    },
    {
      "cell_type": "code",
      "metadata": {
        "id": "ROlN1IuFrJKW",
        "colab": {
          "base_uri": "https://localhost:8080/",
          "height": 72
        },
        "outputId": "1e75f681-5a16-4f97-91ea-a82187263582"
      },
      "source": [
        "predictions = my_classifier.predict(x_test)\n",
        "print(predictions)\n",
        "from sklearn.metrics import accuracy_score\n",
        "print( accuracy_score(y_test, predictions))"
      ],
      "execution_count": null,
      "outputs": [
        {
          "output_type": "stream",
          "text": [
            "[2, 1, 1, 0, 1, 0, 2, 1, 0, 0, 0, 2, 2, 0, 0, 2, 2, 1, 0, 1, 2, 0, 2, 2, 2, 0, 2, 2, 2, 0, 2, 1, 0, 0, 0, 1, 0, 2, 2, 2, 1, 0, 2, 2, 1, 2, 1, 1, 1, 0, 1, 1, 2, 0, 1, 0, 0, 1, 0, 2, 1, 0, 0, 1, 2, 2, 1, 1, 0, 2, 2, 0, 1, 1, 2]\n",
            "0.9733333333333334\n"
          ],
          "name": "stdout"
        }
      ]
    }
  ]
}