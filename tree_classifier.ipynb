{
  "nbformat": 4,
  "nbformat_minor": 0,
  "metadata": {
    "colab": {
      "name": "tree_classifier.ipynb",
      "provenance": []
    },
    "kernelspec": {
      "name": "python3",
      "display_name": "Python 3"
    }
  },
  "cells": [
    {
      "cell_type": "code",
      "metadata": {
        "id": "8owbViY2OxaN"
      },
      "source": [
        "#in this model we ask the model to classify it through a function but actually it should learn the function on its own\n",
        "from sklearn import datasets\n",
        "iris = datasets.load_iris()"
      ],
      "execution_count": null,
      "outputs": []
    },
    {
      "cell_type": "code",
      "metadata": {
        "id": "-IImb3qIPMnq"
      },
      "source": [
        "x = iris.data\n",
        "y = iris.target"
      ],
      "execution_count": null,
      "outputs": []
    },
    {
      "cell_type": "code",
      "metadata": {
        "id": "pqor77NsPUJN"
      },
      "source": [
        "from sklearn.model_selection import train_test_split\n",
        "x_train, x_test, y_train, y_test = train_test_split(x, y, test_size = .5)"
      ],
      "execution_count": null,
      "outputs": []
    },
    {
      "cell_type": "code",
      "metadata": {
        "id": "t0SDuMsUR6zg"
      },
      "source": [
        "from sklearn import tree\n",
        "my_classifier = tree.DecisionTreeClassifier()\n",
        "# also this classifier can be used\n",
        "# from sklearn.neighbors import KNeighborsClassifier\n",
        "#my classifier = KNeighborsClassifier()\n"
      ],
      "execution_count": null,
      "outputs": []
    },
    {
      "cell_type": "code",
      "metadata": {
        "id": "JckEloR_SI73"
      },
      "source": [
        "my_classifier.fit(x_train, y_train)"
      ],
      "execution_count": null,
      "outputs": []
    },
    {
      "cell_type": "code",
      "metadata": {
        "id": "GSTNYtesSS8p",
        "colab": {
          "base_uri": "https://localhost:8080/",
          "height": 82
        },
        "outputId": "ef1b5a33-8491-447c-8594-0d0a931d408f"
      },
      "source": [
        "predictions = my_classifier.predict(x_test)\n",
        "print(predictions)\n",
        "from sklearn.metrics import accuracy_score\n",
        "print( accuracy_score(y_test, predictions))"
      ],
      "execution_count": null,
      "outputs": [
        {
          "output_type": "stream",
          "text": [
            "[0 1 2 0 2 1 2 1 0 2 2 0 2 2 1 2 2 2 2 2 0 2 1 1 1 0 1 0 0 2 1 0 2 2 1 2 0\n",
            " 2 1 2 2 2 0 1 1 0 2 0 1 2 1 0 0 1 1 0 0 0 0 0 2 0 0 2 1 2 0 0 1 0 0 2 2 0\n",
            " 1]\n",
            "0.96\n"
          ],
          "name": "stdout"
        }
      ]
    }
  ]
}