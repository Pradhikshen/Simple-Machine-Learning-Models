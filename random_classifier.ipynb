{
  "nbformat": 4,
  "nbformat_minor": 0,
  "metadata": {
    "colab": {
      "name": "random_classifier.ipynb",
      "provenance": []
    },
    "kernelspec": {
      "name": "python3",
      "display_name": "Python 3"
    }
  },
  "cells": [
    {
      "cell_type": "code",
      "metadata": {
        "id": "O_jUuyApn8J_"
      },
      "source": [
        "import random"
      ],
      "execution_count": null,
      "outputs": []
    },
    {
      "cell_type": "code",
      "metadata": {
        "id": "M6PBTzhdoAQW"
      },
      "source": [
        "class ScrappyKNN() :\n",
        "  def fit(self, x_train, y_train) :\n",
        "    self.x_train = x_train\n",
        "    self.y_train = y_train\n",
        "  \n",
        "  def predict(self, x_test) :\n",
        "    predictions = []\n",
        "    for row in x_test:\n",
        "      labels = random.choice(self.y_train)\n",
        "      predictions.append(labels)\n",
        "    return predictions\n"
      ],
      "execution_count": null,
      "outputs": []
    },
    {
      "cell_type": "code",
      "metadata": {
        "id": "EF7AP7D-o7rb"
      },
      "source": [
        "from sklearn import datasets"
      ],
      "execution_count": null,
      "outputs": []
    },
    {
      "cell_type": "code",
      "metadata": {
        "id": "reI40UhUpDSi"
      },
      "source": [
        "iris = datasets.load_iris()\n",
        "\n",
        "\n"
      ],
      "execution_count": null,
      "outputs": []
    },
    {
      "cell_type": "code",
      "metadata": {
        "id": "fT79IWSapUza"
      },
      "source": [
        "x = iris.data\n",
        "y = iris.target"
      ],
      "execution_count": null,
      "outputs": []
    },
    {
      "cell_type": "code",
      "metadata": {
        "id": "nRqthewaqaT3"
      },
      "source": [
        "from sklearn.model_selection import train_test_split\n",
        "x_train, x_test, y_train, y_test = train_test_split(x, y, test_size = .5)\n",
        "\n",
        "my_classifier = ScrappyKNN()"
      ],
      "execution_count": null,
      "outputs": []
    },
    {
      "cell_type": "code",
      "metadata": {
        "id": "suhvprMtpy84"
      },
      "source": [
        "my_classifier.fit(x_train, y_train)"
      ],
      "execution_count": null,
      "outputs": []
    },
    {
      "cell_type": "code",
      "metadata": {
        "id": "ROlN1IuFrJKW",
        "colab": {
          "base_uri": "https://localhost:8080/",
          "height": 71
        },
        "outputId": "bc1423b8-b5af-40f4-cad4-09b1aeeb5244"
      },
      "source": [
        "predictions = my_classifier.predict(x_test)\n",
        "print(predictions)\n",
        "from sklearn.metrics import accuracy_score\n",
        "print( accuracy_score(y_test, predictions))"
      ],
      "execution_count": null,
      "outputs": [
        {
          "output_type": "stream",
          "text": [
            "[0, 1, 2, 2, 2, 1, 0, 1, 0, 2, 1, 0, 0, 2, 1, 0, 1, 1, 0, 2, 2, 2, 1, 2, 1, 2, 1, 2, 0, 2, 2, 0, 0, 1, 2, 1, 0, 2, 2, 1, 2, 0, 0, 1, 1, 0, 1, 1, 2, 2, 1, 1, 0, 1, 2, 1, 1, 0, 0, 1, 1, 0, 2, 1, 2, 0, 2, 2, 2, 0, 0, 0, 2, 0, 2]\n",
            "0.3333333333333333\n"
          ],
          "name": "stdout"
        }
      ]
    }
  ]
}