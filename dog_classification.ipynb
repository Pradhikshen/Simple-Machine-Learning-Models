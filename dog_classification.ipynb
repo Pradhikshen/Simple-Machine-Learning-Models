{
  "nbformat": 4,
  "nbformat_minor": 0,
  "metadata": {
    "colab": {
      "name": "dog_classification.ipynb",
      "provenance": []
    },
    "kernelspec": {
      "name": "python3",
      "display_name": "Python 3"
    }
  },
  "cells": [
    {
      "cell_type": "code",
      "metadata": {
        "id": "VzjrFgTRuHjR"
      },
      "source": [
        "import numpy as np\n",
        "import matplotlib.pyplot as plt"
      ],
      "execution_count": null,
      "outputs": []
    },
    {
      "cell_type": "code",
      "metadata": {
        "id": "UpL98Cyoub2I"
      },
      "source": [
        "greyhounds = 500\n",
        "labs = 500\n",
        "\n",
        "grey_height = 28 + 4 * np.random.randn(greyhounds)\n",
        "lab_height = 24 + 4 * np.random.randn(labs)"
      ],
      "execution_count": null,
      "outputs": []
    },
    {
      "cell_type": "code",
      "metadata": {
        "id": "PQDUbh3Ru2HA",
        "colab": {
          "base_uri": "https://localhost:8080/",
          "height": 265
        },
        "outputId": "f146b3de-2ca4-4383-df0d-7350f8ab8db3"
      },
      "source": [
        "plt.hist([grey_height, lab_height], stacked =True, color=['r', 'b'])\n",
        "plt.show()"
      ],
      "execution_count": null,
      "outputs": [
        {
          "output_type": "display_data",
          "data": {
            "image/png": "[encoded data removed]",
            "text/plain": [
              "<Figure size 432x288 with 1 Axes>"
            ]
          },
          "metadata": {
            "tags": []
          }
        }
      ]
    }
  ]
}